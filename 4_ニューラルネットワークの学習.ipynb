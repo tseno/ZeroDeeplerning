{
 "cells": [
  {
   "cell_type": "code",
   "execution_count": 1,
   "metadata": {
    "collapsed": false
   },
   "outputs": [
    {
     "name": "stdout",
     "output_type": "stream",
     "text": [
      "0.0975\n",
      "0.5975\n"
     ]
    }
   ],
   "source": [
    "import numpy as np\n",
    "\n",
    "#損失関数\n",
    "def mean_squared_error(y, t):\n",
    "    return 0.5 * np.sum((y-t)**2)\n",
    "\n",
    "t = [0, 0, 1, 0, 0, 0, 0, 0, 0, 0]\n",
    "y = [0.1, 0.05, 0.6, 0.0, 0.05, 0.1, 0.0, 0.1, 0.0, 0.0]\n",
    "print(mean_squared_error(np.array(y),np.array(t)))\n",
    "\n",
    "t = [0, 0, 1, 0, 0, 0, 0, 0, 0, 0]\n",
    "y = [0.1, 0.05, 0.1, 0.0, 0.05, 0.1, 0.0, 0.6, 0.0, 0.0]\n",
    "print(mean_squared_error(np.array(y),np.array(t)))\n"
   ]
  },
  {
   "cell_type": "code",
   "execution_count": 2,
   "metadata": {
    "collapsed": false
   },
   "outputs": [
    {
     "name": "stdout",
     "output_type": "stream",
     "text": [
      "0.510825457099\n",
      "2.30258409299\n"
     ]
    }
   ],
   "source": [
    "import numpy as np\n",
    "\n",
    "#交差エントロピー誤差\n",
    "def cross_entropy_error(y, t):\n",
    "    delta = 1e-7 #微小な数\n",
    "    return -np.sum(t * np.log(y + delta))\n",
    "\n",
    "t = [0, 0, 1, 0, 0, 0, 0, 0, 0, 0]\n",
    "y = [0.1, 0.05, 0.6, 0.0, 0.05, 0.1, 0.0, 0.1, 0.0, 0.0]\n",
    "print(cross_entropy_error(np.array(y),np.array(t)))\n",
    "\n",
    "t = [0, 0, 1, 0, 0, 0, 0, 0, 0, 0]\n",
    "y = [0.1, 0.05, 0.1, 0.0, 0.05, 0.1, 0.0, 0.6, 0.0, 0.0]\n",
    "print(cross_entropy_error(np.array(y),np.array(t)))"
   ]
  },
  {
   "cell_type": "code",
   "execution_count": 3,
   "metadata": {
    "collapsed": false
   },
   "outputs": [
    {
     "name": "stdout",
     "output_type": "stream",
     "text": [
      "(60000, 784)\n",
      "(60000, 10)\n",
      "[39581 27660 52431 15455  8120 39093 25838 28261 23928 26555]\n"
     ]
    }
   ],
   "source": [
    "import sys, os\n",
    "sys.path.append(os.pardir)\n",
    "import numpy as np\n",
    "from dataset.mnist import load_mnist\n",
    "\n",
    "(x_train, t_train), (x_test, t_test) = load_mnist(normalize=True, one_hot_label=True)\n",
    "\n",
    "print(x_train.shape)\n",
    "print(t_train.shape)\n",
    "\n",
    "train_size = x_train.shape[0]\n",
    "batch_size = 10\n",
    "#ランダムに10個取り出す\n",
    "batch_mask = np.random.choice(train_size, batch_size)\n",
    "x_batch = x_train[batch_mask]\n",
    "t_batch = t_train[batch_mask]\n",
    "print(batch_mask)"
   ]
  },
  {
   "cell_type": "code",
   "execution_count": 4,
   "metadata": {
    "collapsed": false,
    "scrolled": true
   },
   "outputs": [
    {
     "data": {
      "image/png": "[encoded data removed]",
      "text/plain": [
       "<matplotlib.figure.Figure at 0x22797591d68>"
      ]
     },
     "metadata": {},
     "output_type": "display_data"
    },
    {
     "name": "stdout",
     "output_type": "stream",
     "text": [
      "0.1999999999990898\n",
      "0.2999999999986347\n"
     ]
    }
   ],
   "source": [
    "%matplotlib inline\n",
    "import numpy as np\n",
    "import matplotlib.pylab as plt\n",
    "\n",
    "#数値微分\n",
    "def numerical_diff(f, x):\n",
    "    h = 1e-4\n",
    "    return (f(x+h) - f(x-h)) / (2*h)\n",
    "\n",
    "def function_1(x):\n",
    "    return 0.01*x**2 + 0.1*x\n",
    "\n",
    "x = np.arange(0.0, 20.0, 0.1)\n",
    "y = function_1(x)\n",
    "plt.xlabel(\"x\")\n",
    "plt.ylabel(\"f(x)\")\n",
    "plt.plot(x,y)\n",
    "plt.show()\n",
    "\n",
    "#微分する\n",
    "print(numerical_diff(function_1, 5))\n",
    "print(numerical_diff(function_1, 10))"
   ]
  },
  {
   "cell_type": "code",
   "execution_count": 5,
   "metadata": {
    "collapsed": false
   },
   "outputs": [
    {
     "name": "stdout",
     "output_type": "stream",
     "text": [
      "6.00000000000378\n",
      "7.999999999999119\n"
     ]
    }
   ],
   "source": [
    "def function_2(x):\n",
    "    return x[0]**2 + x[1]**2\n",
    "\n",
    "def function_tmp1(x0):\n",
    "    return x0*x0 + 4.0**2.0\n",
    "\n",
    "print(numerical_diff(function_tmp1, 3.0))\n",
    "\n",
    "def function_tmp2(x1):\n",
    "    return 3.0**2.0 + x1*x1\n",
    "\n",
    "print(numerical_diff(function_tmp2, 4.0))\n",
    "\n"
   ]
  },
  {
   "cell_type": "code",
   "execution_count": 6,
   "metadata": {
    "collapsed": false
   },
   "outputs": [
    {
     "name": "stdout",
     "output_type": "stream",
     "text": [
      "[ 6.  8.]\n",
      "[ 0.  4.]\n",
      "[-6.  0.]\n"
     ]
    }
   ],
   "source": [
    "#偏微分\n",
    "def numerical_gradient(f, x):\n",
    "    h = 1e-4\n",
    "    grad = np.zeros_like(x)\n",
    "    \n",
    "    for idx in range(x.size):\n",
    "        tmp_val = x[idx]\n",
    "\n",
    "        x[idx] = tmp_val + h\n",
    "        fxh1 = f(x)\n",
    "        \n",
    "        x[idx] = tmp_val - h\n",
    "        fxh2 = f(x)\n",
    "        \n",
    "        grad[idx] = (fxh1 - fxh2) / (2*h)\n",
    "        x[idx] = tmp_val\n",
    "        \n",
    "    return grad\n",
    "\n",
    "print(numerical_gradient(function_2, np.array([3.0, 4.0])))\n",
    "print(numerical_gradient(function_2, np.array([0.0, 2.0])))\n",
    "print(numerical_gradient(function_2, np.array([-3.0, 0.0])))"
   ]
  },
  {
   "cell_type": "code",
   "execution_count": 7,
   "metadata": {
    "collapsed": false
   },
   "outputs": [
    {
     "name": "stdout",
     "output_type": "stream",
     "text": [
      "[ -6.11110793e-10   8.14814391e-10]\n",
      "[-3.  4.]\n",
      "[-2.45570041  3.27426722]\n"
     ]
    }
   ],
   "source": [
    "#勾配法\n",
    "def gradient_descent(f, init_x, lr=0.01, step_num=100):\n",
    "    x = init_x\n",
    "    \n",
    "    for i in range(step_num):\n",
    "        grad = numerical_gradient(f, x)\n",
    "        x -= lr * grad\n",
    "        \n",
    "    return x\n",
    "\n",
    "init_x = np.array([-3.0, 4.0])\n",
    "print(gradient_descent(function_2, init_x=init_x, lr=0.1, step_num=100))\n",
    "init_x = np.array([-3.0, 4.0])\n",
    "print(gradient_descent(function_2, init_x=init_x, lr=1, step_num=100))\n",
    "init_x = np.array([-3.0, 4.0])\n",
    "print(gradient_descent(function_2, init_x=init_x, lr=0.001, step_num=100))\n",
    "\n",
    "\n"
   ]
  },
  {
   "cell_type": "code",
   "execution_count": 8,
   "metadata": {
    "collapsed": false
   },
   "outputs": [
    {
     "name": "stdout",
     "output_type": "stream",
     "text": [
      "[[ 1.16036434  1.04285119  0.42200119]\n",
      " [-0.95640992 -0.12211939 -0.76093539]]\n",
      "[-0.16455032  0.51580326 -0.43164114]\n",
      "1\n",
      "1.58622437408\n",
      "[[ 0.16042012  0.31676168 -0.47718179]\n",
      " [ 0.24063017  0.47514251 -0.71577269]]\n"
     ]
    }
   ],
   "source": [
    "#ニューラルネットワークの勾配を求める\n",
    "import sys, os\n",
    "sys.path.append(os.pardir)\n",
    "import numpy as np\n",
    "from common.functions import softmax, cross_entropy_error\n",
    "from common.gradient import numerical_gradient\n",
    "\n",
    "class simpleNet:\n",
    "    def __init__(self):\n",
    "        self.W = np.random.randn(2,3) #ガウス分布で正規化\n",
    "        \n",
    "    def predict(self, x):\n",
    "        return np.dot(x, self.W)\n",
    "    \n",
    "    def loss(self, x, t):\n",
    "        z = self.predict(x)\n",
    "        y = softmax(z)\n",
    "        loss = cross_entropy_error(y, t)\n",
    "        \n",
    "        return loss\n",
    "\n",
    "    \n",
    "\n",
    "net = simpleNet()\n",
    "print(net.W)\n",
    "\n",
    "x = np.array([0.6, 0.9])\n",
    "p = net.predict(x)\n",
    "print(p)\n",
    "print(np.argmax(p))\n",
    "\n",
    "t = np.array([0, 0, 1])\n",
    "print(net.loss(x, t))\n",
    "\n",
    "def f(W):\n",
    "    return net.loss(x, t)\n",
    "\n",
    "dW = numerical_gradient(f, net.W)\n",
    "print(dW)"
   ]
  },
  {
   "cell_type": "code",
   "execution_count": 9,
   "metadata": {
    "collapsed": false
   },
   "outputs": [],
   "source": [
    "#2層ニューラルネットワーク\n",
    "import sys, os\n",
    "sys.path.append(os.pardir)\n",
    "import numpy as np\n",
    "from dataset.mnist import load_mnist\n",
    "from common.functions import *\n",
    "from common.gradient import numerical_gradient\n",
    "\n",
    "class TwoLayerNet:\n",
    "\n",
    "    def __init__(self, input_size, hidden_size, output_size, weight_init_std=0.01):\n",
    "        #重みの初期化\n",
    "        self.params = {}\n",
    "        self.params['W1'] = weight_init_std * np.random.randn(input_size, hidden_size)\n",
    "        self.params['b1'] = np.zeros(hidden_size)\n",
    "        self.params['W2'] = weight_init_std * np.random.randn(hidden_size, output_size)\n",
    "        self.params['b2'] = np.zeros(output_size)\n",
    "        \n",
    "    def predict(self, x):\n",
    "        W1, W2 = self.params['W1'], self.params['W2']\n",
    "        b1, b2 = self.params['b1'], self.params['b2']\n",
    "        \n",
    "        a1 = np.dot(x, W1) + b1\n",
    "        z1 = sigmoid(a1)\n",
    "        a2 = np.dot(z1, W2) + b2\n",
    "        y = softmax(a2)\n",
    "        return y\n",
    "    \n",
    "    def loss(self, x, t):\n",
    "        y = self.predict(x)\n",
    "        return cross_entropy_error(y, t)\n",
    "        \n",
    "    def accuracy(self, x, t):\n",
    "        y = self.predict(x)\n",
    "        y = np.argmax(y, axis=1)\n",
    "        t = np.argmax(t, axis=1)\n",
    "        accuracy = np.sum(y == t) / float(x.shape[0])\n",
    "        return accuracy\n",
    "    \n",
    "    def numerical_gradient(self, x, t):\n",
    "        loss_W = lambda W: self.loss(x, t)\n",
    "        grads = {}\n",
    "        grads['W1'] = numerical_gradient(loss_W, self.params['W1'])\n",
    "        grads['b1'] = numerical_gradient(loss_W, self.params['b1'])\n",
    "        grads['W2'] = numerical_gradient(loss_W, self.params['W2'])\n",
    "        grads['b2'] = numerical_gradient(loss_W, self.params['b2'])\n",
    "        return grads\n",
    "    \n",
    "    def gradient(self, x, t):\n",
    "        W1, W2 = self.params['W1'], self.params['W2']\n",
    "        b1, b2 = self.params['b1'], self.params['b2']\n",
    "        grads = {}\n",
    "        \n",
    "        batch_num = x.shape[0]\n",
    "        \n",
    "        # forward\n",
    "        a1 = np.dot(x, W1) + b1\n",
    "        z1 = sigmoid(a1)\n",
    "        a2 = np.dot(z1, W2) + b2\n",
    "        y = softmax(a2)\n",
    "        \n",
    "        # backward\n",
    "        dy = (y - t) / batch_num\n",
    "        grads['W2'] = np.dot(z1.T, dy)\n",
    "        grads['b2'] = np.sum(dy, axis=0)\n",
    "        \n",
    "        da1 = np.dot(dy, W2.T)\n",
    "        dz1 = sigmoid_grad(a1) * da1\n",
    "        grads['W1'] = np.dot(x.T, dz1)\n",
    "        grads['b1'] = np.sum(dz1, axis=0)\n",
    "\n",
    "        return grads\n",
    "    \n"
   ]
  },
  {
   "cell_type": "code",
   "execution_count": 17,
   "metadata": {
    "collapsed": false
   },
   "outputs": [
    {
     "name": "stdout",
     "output_type": "stream",
     "text": [
      "train acc, test acc | 0.0987166666667, 0.098\n",
      "train acc, test acc | 0.772283333333, 0.7811\n",
      "train acc, test acc | 0.876533333333, 0.881\n",
      "train acc, test acc | 0.898433333333, 0.9029\n",
      "train acc, test acc | 0.9056, 0.9104\n",
      "train acc, test acc | 0.914583333333, 0.9172\n",
      "train acc, test acc | 0.919966666667, 0.9223\n",
      "train acc, test acc | 0.924183333333, 0.9271\n",
      "train acc, test acc | 0.92865, 0.9301\n",
      "train acc, test acc | 0.9319, 0.9321\n",
      "train acc, test acc | 0.93555, 0.9361\n",
      "train acc, test acc | 0.9379, 0.9369\n",
      "train acc, test acc | 0.94035, 0.9395\n",
      "train acc, test acc | 0.942883333333, 0.9416\n",
      "train acc, test acc | 0.94515, 0.9428\n",
      "train acc, test acc | 0.947116666667, 0.9459\n",
      "train acc, test acc | 0.947916666667, 0.9461\n",
      "train acc, test acc | 0.950366666667, 0.9481\n",
      "train acc, test acc | 0.951333333333, 0.9488\n",
      "train acc, test acc | 0.9527, 0.9513\n",
      "train acc, test acc | 0.953516666667, 0.9505\n",
      "train acc, test acc | 0.95495, 0.9523\n",
      "train acc, test acc | 0.956066666667, 0.9537\n",
      "train acc, test acc | 0.9567, 0.953\n",
      "train acc, test acc | 0.958133333333, 0.9551\n",
      "train acc, test acc | 0.9588, 0.9549\n",
      "train acc, test acc | 0.960166666667, 0.9553\n",
      "train acc, test acc | 0.960966666667, 0.9565\n",
      "train acc, test acc | 0.96155, 0.9575\n",
      "train acc, test acc | 0.962466666667, 0.9574\n",
      "train acc, test acc | 0.963733333333, 0.9592\n",
      "train acc, test acc | 0.96455, 0.9601\n",
      "train acc, test acc | 0.965333333333, 0.9611\n",
      "train acc, test acc | 0.965566666667, 0.9603\n",
      "train acc, test acc | 0.966316666667, 0.9612\n",
      "train acc, test acc | 0.9673, 0.9625\n",
      "train acc, test acc | 0.967966666667, 0.9615\n",
      "train acc, test acc | 0.968333333333, 0.9632\n",
      "train acc, test acc | 0.968666666667, 0.9625\n",
      "train acc, test acc | 0.969433333333, 0.9639\n",
      "train acc, test acc | 0.969966666667, 0.9634\n",
      "train acc, test acc | 0.9704, 0.9649\n",
      "train acc, test acc | 0.971366666667, 0.9638\n",
      "train acc, test acc | 0.971116666667, 0.9645\n",
      "train acc, test acc | 0.972166666667, 0.9653\n",
      "train acc, test acc | 0.972183333333, 0.9664\n",
      "train acc, test acc | 0.972816666667, 0.9659\n",
      "train acc, test acc | 0.973466666667, 0.9674\n",
      "train acc, test acc | 0.974033333333, 0.9668\n",
      "train acc, test acc | 0.9744, 0.9678\n",
      "train acc, test acc | 0.974133333333, 0.9676\n",
      "train acc, test acc | 0.974933333333, 0.967\n",
      "train acc, test acc | 0.975716666667, 0.968\n",
      "train acc, test acc | 0.97555, 0.9679\n",
      "train acc, test acc | 0.9761, 0.9696\n",
      "train acc, test acc | 0.976483333333, 0.9694\n",
      "train acc, test acc | 0.976466666667, 0.9687\n",
      "train acc, test acc | 0.976833333333, 0.9696\n",
      "train acc, test acc | 0.977016666667, 0.9701\n",
      "train acc, test acc | 0.97745, 0.9688\n",
      "train acc, test acc | 0.977533333333, 0.9704\n",
      "train acc, test acc | 0.97845, 0.9707\n",
      "train acc, test acc | 0.9783, 0.9704\n",
      "train acc, test acc | 0.978766666667, 0.9704\n",
      "train acc, test acc | 0.978933333333, 0.9698\n",
      "train acc, test acc | 0.979166666667, 0.9716\n",
      "train acc, test acc | 0.979333333333, 0.9711\n",
      "train acc, test acc | 0.979733333333, 0.971\n",
      "train acc, test acc | 0.9798, 0.9705\n",
      "train acc, test acc | 0.98015, 0.9715\n",
      "train acc, test acc | 0.980316666667, 0.9713\n",
      "train acc, test acc | 0.98055, 0.9717\n",
      "train acc, test acc | 0.98075, 0.9723\n",
      "train acc, test acc | 0.980666666667, 0.9717\n",
      "train acc, test acc | 0.9812, 0.9722\n",
      "train acc, test acc | 0.981166666667, 0.9724\n",
      "train acc, test acc | 0.9815, 0.9724\n",
      "train acc, test acc | 0.981533333333, 0.9729\n",
      "train acc, test acc | 0.981966666667, 0.9724\n",
      "train acc, test acc | 0.981933333333, 0.9725\n",
      "train acc, test acc | 0.982416666667, 0.9722\n",
      "train acc, test acc | 0.982366666667, 0.9721\n",
      "train acc, test acc | 0.982616666667, 0.9726\n",
      "train acc, test acc | 0.9829, 0.9731\n"
     ]
    }
   ],
   "source": [
    "\n",
    "(x_train, t_train), (x_test, t_test) = load_mnist(normalize=True, one_hot_label=True)\n",
    "train_loss_list = []\n",
    "train_acc_list = []\n",
    "test_acc_list = []\n",
    "#1エポックあたりの繰り返し数\n",
    "iter_per_epoch = max(train_size / batch_size, 1)\n",
    "\n",
    "#ハイパーパラメータ\n",
    "iters_num = 50000\n",
    "train_size = x_train.shape[0]\n",
    "batch_size = 100\n",
    "learning_rate = 0.1\n",
    "\n",
    "network = TwoLayerNet(input_size=784, hidden_size=50, output_size=10)\n",
    "\n",
    "for i in range(iters_num):\n",
    "    batch_mask = np.random.choice(train_size, batch_size)\n",
    "    x_batch = x_train[batch_mask]\n",
    "    t_batch = t_train[batch_mask]\n",
    "    \n",
    "    #grad = network.numerical_gradient(x_batch, t_batch)\n",
    "    grad = network.gradient(x_batch, t_batch)\n",
    "    \n",
    "    for key in ('W1', 'b1', 'W2', 'b2'):\n",
    "        network.params[key] -= learning_rate * grad[key]\n",
    "    \n",
    "    loss = network.loss(x_batch, t_batch)\n",
    "    train_loss_list.append(loss)\n",
    "    \n",
    "    if i % iter_per_epoch == 0:\n",
    "        train_acc = network.accuracy(x_train, t_train)\n",
    "        test_acc = network.accuracy(x_test, t_test)\n",
    "        train_acc_list.append(train_acc)\n",
    "        test_acc_list.append(test_acc)\n",
    "        print(\"train acc, test acc | \" + str(train_acc) + \", \" + str(test_acc))\n",
    "\n",
    "\n",
    "        "
   ]
  }
 ],
 "metadata": {
  "kernelspec": {
   "display_name": "Python [Root]",
   "language": "python",
   "name": "Python [Root]"
  },
  "language_info": {
   "codemirror_mode": {
    "name": "ipython",
    "version": 3
   },
   "file_extension": ".py",
   "mimetype": "text/x-python",
   "name": "python",
   "nbconvert_exporter": "python",
   "pygments_lexer": "ipython3",
   "version": "3.5.2"
  }
 },
 "nbformat": 4,
 "nbformat_minor": 0
}
